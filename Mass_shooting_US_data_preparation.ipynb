{
 "cells": [
  {
   "cell_type": "code",
   "execution_count": 1,
   "id": "b4c2b266",
   "metadata": {},
   "outputs": [],
   "source": [
    "import pandas as pd"
   ]
  },
  {
   "cell_type": "code",
   "execution_count": 2,
   "id": "2c7d3492",
   "metadata": {},
   "outputs": [],
   "source": [
    "df = pd.read_csv('Mother Jones - Mass Shootings Database, 1982 - 2023.csv')"
   ]
  },
  {
   "cell_type": "code",
   "execution_count": 3,
   "id": "71a3f273",
   "metadata": {},
   "outputs": [
    {
     "data": {
      "text/html": [
       "<div>\n",
       "<style scoped>\n",
       "    .dataframe tbody tr th:only-of-type {\n",
       "        vertical-align: middle;\n",
       "    }\n",
       "\n",
       "    .dataframe tbody tr th {\n",
       "        vertical-align: top;\n",
       "    }\n",
       "\n",
       "    .dataframe thead th {\n",
       "        text-align: right;\n",
       "    }\n",
       "</style>\n",
       "<table border=\"1\" class=\"dataframe\">\n",
       "  <thead>\n",
       "    <tr style=\"text-align: right;\">\n",
       "      <th></th>\n",
       "      <th>case</th>\n",
       "      <th>location</th>\n",
       "      <th>date</th>\n",
       "      <th>summary</th>\n",
       "      <th>fatalities</th>\n",
       "      <th>injured</th>\n",
       "      <th>total_victims</th>\n",
       "      <th>location.1</th>\n",
       "      <th>age_of_shooter</th>\n",
       "      <th>prior_signs_mental_health_issues</th>\n",
       "      <th>...</th>\n",
       "      <th>weapon_details</th>\n",
       "      <th>race</th>\n",
       "      <th>gender</th>\n",
       "      <th>sources</th>\n",
       "      <th>mental_health_sources</th>\n",
       "      <th>sources_additional_age</th>\n",
       "      <th>latitude</th>\n",
       "      <th>longitude</th>\n",
       "      <th>type</th>\n",
       "      <th>year</th>\n",
       "    </tr>\n",
       "  </thead>\n",
       "  <tbody>\n",
       "    <tr>\n",
       "      <th>0</th>\n",
       "      <td>UNLV shooting</td>\n",
       "      <td>Las Vegas, Nevada</td>\n",
       "      <td>12/6/23</td>\n",
       "      <td>Anthony Polito, 67, a former university profes...</td>\n",
       "      <td>3</td>\n",
       "      <td>1</td>\n",
       "      <td>4</td>\n",
       "      <td>School</td>\n",
       "      <td>67</td>\n",
       "      <td>-</td>\n",
       "      <td>...</td>\n",
       "      <td>-</td>\n",
       "      <td>White</td>\n",
       "      <td>M</td>\n",
       "      <td>https://www.nbcnews.com/news/us-news/anthony-p...</td>\n",
       "      <td>-</td>\n",
       "      <td>-</td>\n",
       "      <td>-</td>\n",
       "      <td>-</td>\n",
       "      <td>mass</td>\n",
       "      <td>2023</td>\n",
       "    </tr>\n",
       "    <tr>\n",
       "      <th>1</th>\n",
       "      <td>Maine bowling alley and bar shootings</td>\n",
       "      <td>Lewiston, Maine</td>\n",
       "      <td>10/25/23</td>\n",
       "      <td>Robert Card, 40, an Army reservist and firearm...</td>\n",
       "      <td>18</td>\n",
       "      <td>13</td>\n",
       "      <td>31</td>\n",
       "      <td>Other</td>\n",
       "      <td>40</td>\n",
       "      <td>yes</td>\n",
       "      <td>...</td>\n",
       "      <td>AR-15-style rifle (Rugar SFAR)</td>\n",
       "      <td>White</td>\n",
       "      <td>M</td>\n",
       "      <td>https://www.washingtonpost.com/nation/2023/10/...</td>\n",
       "      <td>https://www.nytimes.com/article/lewiston-maine...</td>\n",
       "      <td>-</td>\n",
       "      <td>-</td>\n",
       "      <td>-</td>\n",
       "      <td>Spree</td>\n",
       "      <td>2023</td>\n",
       "    </tr>\n",
       "    <tr>\n",
       "      <th>2</th>\n",
       "      <td>Jacksonville Dollar General store shooting</td>\n",
       "      <td>Jacksonville, Florida</td>\n",
       "      <td>8/26/23</td>\n",
       "      <td>Ryan Palmeter, 21, outfitted in body armor, fa...</td>\n",
       "      <td>3</td>\n",
       "      <td>0</td>\n",
       "      <td>3</td>\n",
       "      <td>workplace</td>\n",
       "      <td>21</td>\n",
       "      <td>yes</td>\n",
       "      <td>...</td>\n",
       "      <td>AR-15-style rifle; Glock pistol</td>\n",
       "      <td>White</td>\n",
       "      <td>M</td>\n",
       "      <td>https://www.washingtonpost.com/nation/2023/08/...</td>\n",
       "      <td>https://www.nbcnews.com/news/us-news/live-blog...</td>\n",
       "      <td>-</td>\n",
       "      <td>-</td>\n",
       "      <td>-</td>\n",
       "      <td>mass</td>\n",
       "      <td>2023</td>\n",
       "    </tr>\n",
       "    <tr>\n",
       "      <th>3</th>\n",
       "      <td>Orange County biker bar shooting</td>\n",
       "      <td>Trabuco Canyon, California</td>\n",
       "      <td>8/23/23</td>\n",
       "      <td>John Snowling, 59, a retired sergeant from the...</td>\n",
       "      <td>3</td>\n",
       "      <td>6</td>\n",
       "      <td>9</td>\n",
       "      <td>Other</td>\n",
       "      <td>59</td>\n",
       "      <td>-</td>\n",
       "      <td>...</td>\n",
       "      <td>-</td>\n",
       "      <td>White</td>\n",
       "      <td>M</td>\n",
       "      <td>https://www.ocregister.com/2023/08/24/cooks-co...</td>\n",
       "      <td>-</td>\n",
       "      <td>-</td>\n",
       "      <td>-</td>\n",
       "      <td>-</td>\n",
       "      <td>mass</td>\n",
       "      <td>2023</td>\n",
       "    </tr>\n",
       "    <tr>\n",
       "      <th>4</th>\n",
       "      <td>Philidelphia neighborhood shooting</td>\n",
       "      <td>Philadelphia, Pennsylvania</td>\n",
       "      <td>7/3/23</td>\n",
       "      <td>Kimbrady Carriker, 40, wearing a ski mask and ...</td>\n",
       "      <td>5</td>\n",
       "      <td>2</td>\n",
       "      <td>7</td>\n",
       "      <td>Other</td>\n",
       "      <td>40</td>\n",
       "      <td>yes</td>\n",
       "      <td>...</td>\n",
       "      <td>AR-15-style rifle</td>\n",
       "      <td>Black</td>\n",
       "      <td>M</td>\n",
       "      <td>https://6abc.com/philly-mass-shooting-suspect-...</td>\n",
       "      <td>https://6abc.com/philly-mass-shooting-suspect-...</td>\n",
       "      <td>-</td>\n",
       "      <td>-</td>\n",
       "      <td>-</td>\n",
       "      <td>mass</td>\n",
       "      <td>2023</td>\n",
       "    </tr>\n",
       "  </tbody>\n",
       "</table>\n",
       "<p>5 rows × 24 columns</p>\n",
       "</div>"
      ],
      "text/plain": [
       "                                         case                    location  \\\n",
       "0                               UNLV shooting           Las Vegas, Nevada   \n",
       "1       Maine bowling alley and bar shootings             Lewiston, Maine   \n",
       "2  Jacksonville Dollar General store shooting       Jacksonville, Florida   \n",
       "3            Orange County biker bar shooting  Trabuco Canyon, California   \n",
       "4          Philidelphia neighborhood shooting  Philadelphia, Pennsylvania   \n",
       "\n",
       "       date                                            summary  fatalities  \\\n",
       "0   12/6/23  Anthony Polito, 67, a former university profes...           3   \n",
       "1  10/25/23  Robert Card, 40, an Army reservist and firearm...          18   \n",
       "2   8/26/23  Ryan Palmeter, 21, outfitted in body armor, fa...           3   \n",
       "3   8/23/23  John Snowling, 59, a retired sergeant from the...           3   \n",
       "4    7/3/23  Kimbrady Carriker, 40, wearing a ski mask and ...           5   \n",
       "\n",
       "   injured  total_victims location.1 age_of_shooter  \\\n",
       "0        1              4     School             67   \n",
       "1       13             31      Other             40   \n",
       "2        0              3  workplace             21   \n",
       "3        6              9      Other             59   \n",
       "4        2              7      Other             40   \n",
       "\n",
       "  prior_signs_mental_health_issues  ...                   weapon_details  \\\n",
       "0                                -  ...                                -   \n",
       "1                              yes  ...   AR-15-style rifle (Rugar SFAR)   \n",
       "2                              yes  ...  AR-15-style rifle; Glock pistol   \n",
       "3                                -  ...                                -   \n",
       "4                              yes  ...                AR-15-style rifle   \n",
       "\n",
       "    race gender                                            sources  \\\n",
       "0  White      M  https://www.nbcnews.com/news/us-news/anthony-p...   \n",
       "1  White      M  https://www.washingtonpost.com/nation/2023/10/...   \n",
       "2  White      M  https://www.washingtonpost.com/nation/2023/08/...   \n",
       "3  White      M  https://www.ocregister.com/2023/08/24/cooks-co...   \n",
       "4  Black      M  https://6abc.com/philly-mass-shooting-suspect-...   \n",
       "\n",
       "                               mental_health_sources sources_additional_age  \\\n",
       "0                                                  -                      -   \n",
       "1  https://www.nytimes.com/article/lewiston-maine...                      -   \n",
       "2  https://www.nbcnews.com/news/us-news/live-blog...                      -   \n",
       "3                                                  -                      -   \n",
       "4  https://6abc.com/philly-mass-shooting-suspect-...                      -   \n",
       "\n",
       "  latitude longitude   type  year  \n",
       "0        -         -   mass  2023  \n",
       "1        -         -  Spree  2023  \n",
       "2        -         -   mass  2023  \n",
       "3        -         -   mass  2023  \n",
       "4        -         -   mass  2023  \n",
       "\n",
       "[5 rows x 24 columns]"
      ]
     },
     "execution_count": 3,
     "metadata": {},
     "output_type": "execute_result"
    }
   ],
   "source": [
    "df.head()"
   ]
  },
  {
   "cell_type": "code",
   "execution_count": 4,
   "id": "0c7ebba4",
   "metadata": {},
   "outputs": [
    {
     "name": "stdout",
     "output_type": "stream",
     "text": [
      "<class 'pandas.core.frame.DataFrame'>\n",
      "RangeIndex: 149 entries, 0 to 148\n",
      "Data columns (total 24 columns):\n",
      " #   Column                            Non-Null Count  Dtype \n",
      "---  ------                            --------------  ----- \n",
      " 0   case                              149 non-null    object\n",
      " 1   location                          149 non-null    object\n",
      " 2   date                              149 non-null    object\n",
      " 3   summary                           149 non-null    object\n",
      " 4   fatalities                        149 non-null    int64 \n",
      " 5   injured                           149 non-null    int64 \n",
      " 6   total_victims                     149 non-null    int64 \n",
      " 7   location.1                        149 non-null    object\n",
      " 8   age_of_shooter                    149 non-null    object\n",
      " 9   prior_signs_mental_health_issues  149 non-null    object\n",
      " 10  mental_health_details             149 non-null    object\n",
      " 11  weapons_obtained_legally          149 non-null    object\n",
      " 12  where_obtained                    149 non-null    object\n",
      " 13  weapon_type                       149 non-null    object\n",
      " 14  weapon_details                    148 non-null    object\n",
      " 15  race                              149 non-null    object\n",
      " 16  gender                            149 non-null    object\n",
      " 17  sources                           149 non-null    object\n",
      " 18  mental_health_sources             149 non-null    object\n",
      " 19  sources_additional_age            149 non-null    object\n",
      " 20  latitude                          149 non-null    object\n",
      " 21  longitude                         149 non-null    object\n",
      " 22  type                              149 non-null    object\n",
      " 23  year                              149 non-null    int64 \n",
      "dtypes: int64(4), object(20)\n",
      "memory usage: 28.1+ KB\n"
     ]
    }
   ],
   "source": [
    "df.info()"
   ]
  },
  {
   "cell_type": "code",
   "execution_count": 5,
   "id": "572cd99c",
   "metadata": {},
   "outputs": [
    {
     "name": "stdout",
     "output_type": "stream",
     "text": [
      "['-' 'yes' 'TBD' 'Yes' 'Unclear' 'Unknown' 'No' 'Unclear ']\n"
     ]
    }
   ],
   "source": [
    "#Check 'prior_signs_mental_health_issues' values\n",
    "print(df['prior_signs_mental_health_issues'].unique())"
   ]
  },
  {
   "cell_type": "code",
   "execution_count": 6,
   "id": "e74a69ea",
   "metadata": {},
   "outputs": [
    {
     "name": "stdout",
     "output_type": "stream",
     "text": [
      "['Unclear' 'Yes' 'No']\n"
     ]
    }
   ],
   "source": [
    "#Correct values pattern\n",
    "df.loc[df['prior_signs_mental_health_issues'].isin(['-']), 'prior_signs_mental_health_issues'] = 'Unclear'\n",
    "df.loc[df['prior_signs_mental_health_issues'].isin(['yes']), 'prior_signs_mental_health_issues'] = 'Yes'\n",
    "df.loc[df['prior_signs_mental_health_issues'].isin(['TBD']), 'prior_signs_mental_health_issues'] = 'Unclear'\n",
    "df.loc[df['prior_signs_mental_health_issues'].isin(['Unknown']), 'prior_signs_mental_health_issues'] = 'Unclear'\n",
    "df.loc[df['prior_signs_mental_health_issues'].isin(['Unclear ']), 'prior_signs_mental_health_issues'] = 'Unclear'\n",
    "print(df.prior_signs_mental_health_issues.unique())"
   ]
  },
  {
   "cell_type": "code",
   "execution_count": 7,
   "id": "5b184516",
   "metadata": {},
   "outputs": [
    {
     "name": "stdout",
     "output_type": "stream",
     "text": [
      "['School' 'Other' 'workplace' 'Workplace' 'religious' 'Religious'\n",
      " 'Military' 'Airport' '\\nWorkplace' 'Other\\n']\n"
     ]
    }
   ],
   "source": [
    "#Check 'location.1' values\n",
    "print(df['location.1'].unique())"
   ]
  },
  {
   "cell_type": "code",
   "execution_count": 8,
   "id": "465ed455",
   "metadata": {},
   "outputs": [],
   "source": [
    "#Rename the column\n",
    "df.rename(columns = {'location.1':'place'}, inplace = True)"
   ]
  },
  {
   "cell_type": "code",
   "execution_count": 9,
   "id": "df61e8d6",
   "metadata": {},
   "outputs": [
    {
     "name": "stdout",
     "output_type": "stream",
     "text": [
      "['School' 'Other' 'Workplace' 'Relogious' 'Religious' 'Military' 'Airport']\n"
     ]
    }
   ],
   "source": [
    "#Correct values pattern\n",
    "df.loc[df['place'].isin(['workplace']), 'place'] = 'Workplace'\n",
    "df.loc[df['place'].isin(['religious']), 'place'] = 'Relogious'\n",
    "df.loc[df['place'].isin(['\\nWorkplace']), 'place'] = 'Workplace'\n",
    "df.loc[df['place'].isin(['Other\\n']), 'place'] = 'Other'\n",
    "print(df.place.unique())"
   ]
  },
  {
   "cell_type": "code",
   "execution_count": 10,
   "id": "743f51bd",
   "metadata": {},
   "outputs": [
    {
     "name": "stdout",
     "output_type": "stream",
     "text": [
      "['-' 'yes' 'Yes' 'No' 'TBD'\n",
      " 'Kelley passed federal criminal background checks; the US Air Force failed to provide information on his criminal history to the FBI'\n",
      " 'Unknown' '\\nYes'\n",
      " 'Yes (\"some of the weapons were purchased legally and some of them may not have been\")'\n",
      " 'Yes ']\n"
     ]
    }
   ],
   "source": [
    "#Check 'weapons_obtained_legally' values\n",
    "print(df['weapons_obtained_legally'].unique())"
   ]
  },
  {
   "cell_type": "code",
   "execution_count": 11,
   "id": "59fedece",
   "metadata": {},
   "outputs": [
    {
     "name": "stdout",
     "output_type": "stream",
     "text": [
      "['No' 'Yes' 'Unknown' 'Partially']\n"
     ]
    }
   ],
   "source": [
    "#Correct values pattern\n",
    "df.loc[df['weapons_obtained_legally'].isin(['yes']), 'weapons_obtained_legally'] = 'Yes'\n",
    "df.loc[df['weapons_obtained_legally'].isin(['\\nYes']), 'weapons_obtained_legally'] = 'Yes'\n",
    "df.loc[df['weapons_obtained_legally'].isin(['Yes (\"some of the weapons were purchased legally and some of them may not have been\")']), 'weapons_obtained_legally'] = 'Partially'\n",
    "df.loc[df['weapons_obtained_legally'].isin(['Yes ']), 'weapons_obtained_legally'] = 'Yes'\n",
    "df.loc[df['weapons_obtained_legally'].isin(['-']), 'weapons_obtained_legally'] = 'No'\n",
    "df.loc[df['weapons_obtained_legally'].isin(['TBD']), 'weapons_obtained_legally'] = 'Unknown'\n",
    "df.loc[df['weapons_obtained_legally'].isin(['Kelley passed federal criminal background checks; the US Air Force failed to provide information on his criminal history to the FBI']), 'weapons_obtained_legally'] = 'Partially'\n",
    "print(df['weapons_obtained_legally'].unique())"
   ]
  },
  {
   "cell_type": "code",
   "execution_count": 12,
   "id": "7e88fa20",
   "metadata": {},
   "outputs": [
    {
     "name": "stdout",
     "output_type": "stream",
     "text": [
      "['White' 'Black' 'Latino' 'Asian' '-' 'Other' 'White ' 'Native American'\n",
      " 'white' 'black' 'unclear']\n"
     ]
    }
   ],
   "source": [
    "#Check 'race' values\n",
    "print(df['race'].unique())"
   ]
  },
  {
   "cell_type": "code",
   "execution_count": 13,
   "id": "f7c74809",
   "metadata": {},
   "outputs": [
    {
     "name": "stdout",
     "output_type": "stream",
     "text": [
      "['White' 'Black' 'Latino' 'Asian' 'Unknown' 'Other' 'Native American']\n"
     ]
    }
   ],
   "source": [
    "#Correct values pattern for race\n",
    "df.loc[df['race'].isin(['-']), 'race'] = 'Unknown'\n",
    "df.loc[df['race'].isin(['unclear']), 'race'] = 'Unknown'\n",
    "df.loc[df['race'].isin(['White ']), 'race'] = 'White'\n",
    "df.loc[df['race'].isin(['white']), 'race'] = 'White'\n",
    "df.loc[df['race'].isin(['black']), 'race'] = 'Black'\n",
    "print(df['race'].unique())"
   ]
  },
  {
   "cell_type": "code",
   "execution_count": 14,
   "id": "6c60dbda",
   "metadata": {},
   "outputs": [
    {
     "name": "stdout",
     "output_type": "stream",
     "text": [
      "['M'\n",
      " 'F (\"identifies as transgender\" and \"Audrey Hale is a biological woman who, on a social media profile, used male pronouns,” according to Nashville Metro PD officials)'\n",
      " 'Male & Female' 'F' 'Male' 'Female']\n"
     ]
    }
   ],
   "source": [
    "#Check 'gender' values\n",
    "print(df['gender'].unique())"
   ]
  },
  {
   "cell_type": "code",
   "execution_count": 15,
   "id": "d0760f51",
   "metadata": {},
   "outputs": [
    {
     "name": "stdout",
     "output_type": "stream",
     "text": [
      "['Male' 'Transgender' 'Male & Female' 'Female']\n"
     ]
    }
   ],
   "source": [
    "#Correct values pattern for gender\n",
    "df.loc[df['gender'].isin(['F (\"identifies as transgender\" and \"Audrey Hale is a biological woman who, on a social media profile, used male pronouns,” according to Nashville Metro PD officials)']), 'gender'] = 'Transgender'\n",
    "df.loc[df['gender'].isin(['M']), 'gender'] = 'Male'\n",
    "df.loc[df['gender'].isin(['F']), 'gender'] = 'Female'\n",
    "print(df['gender'].unique())"
   ]
  },
  {
   "cell_type": "code",
   "execution_count": 16,
   "id": "f7016ddb",
   "metadata": {},
   "outputs": [
    {
     "name": "stdout",
     "output_type": "stream",
     "text": [
      "['mass' 'Spree' 'Mass']\n"
     ]
    }
   ],
   "source": [
    "#Check 'type' values\n",
    "print(df['type'].unique())"
   ]
  },
  {
   "cell_type": "code",
   "execution_count": 17,
   "id": "ae4e3fd8",
   "metadata": {},
   "outputs": [
    {
     "name": "stdout",
     "output_type": "stream",
     "text": [
      "['Mass' 'Spree']\n"
     ]
    }
   ],
   "source": [
    "#Correct values pattern for type\n",
    "df.loc[df['type'].isin(['mass']), 'type'] = 'Mass'\n",
    "print(df['type'].unique())"
   ]
  },
  {
   "cell_type": "code",
   "execution_count": 18,
   "id": "bfdca02d",
   "metadata": {},
   "outputs": [],
   "source": [
    "#Save clianed data into excel file for the next processing with Tableau\n",
    "df.to_excel(\"Mass_shooting_US_cleaned.xlsx\")"
   ]
  },
  {
   "cell_type": "code",
   "execution_count": null,
   "id": "54c08460",
   "metadata": {},
   "outputs": [],
   "source": []
  }
 ],
 "metadata": {
  "kernelspec": {
   "display_name": "Python 3 (ipykernel)",
   "language": "python",
   "name": "python3"
  },
  "language_info": {
   "codemirror_mode": {
    "name": "ipython",
    "version": 3
   },
   "file_extension": ".py",
   "mimetype": "text/x-python",
   "name": "python",
   "nbconvert_exporter": "python",
   "pygments_lexer": "ipython3",
   "version": "3.11.5"
  }
 },
 "nbformat": 4,
 "nbformat_minor": 5
}
